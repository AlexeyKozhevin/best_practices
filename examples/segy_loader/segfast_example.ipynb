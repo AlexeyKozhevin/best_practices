{
 "cells": [
  {
   "cell_type": "markdown",
   "id": "167b6191-073b-4193-9bb6-6ee3d52bfc7d",
   "metadata": {},
   "source": [
    "# SegFast: comparison and examples"
   ]
  },
  {
   "cell_type": "code",
   "execution_count": 1,
   "id": "52a4da64-e61b-48f5-bfad-90f27a29765c",
   "metadata": {
    "execution": {
     "iopub.execute_input": "2023-10-25T15:10:12.354526Z",
     "iopub.status.busy": "2023-10-25T15:10:12.353301Z",
     "iopub.status.idle": "2023-10-25T15:10:14.028253Z",
     "shell.execute_reply": "2023-10-25T15:10:14.027081Z",
     "shell.execute_reply.started": "2023-10-25T15:10:12.354462Z"
    },
    "tags": []
   },
   "outputs": [],
   "source": [
    "import numpy as np\n",
    "import pandas as pd\n",
    "\n",
    "import segyio\n",
    "import segfast\n",
    "\n",
    "from batchflow import Notifier\n",
    "from batchflow.plotter import plot"
   ]
  },
  {
   "cell_type": "code",
   "execution_count": 2,
   "id": "c241022c-1226-4163-ad96-e5b509b0664e",
   "metadata": {
    "execution": {
     "iopub.execute_input": "2023-10-25T15:10:14.030245Z",
     "iopub.status.busy": "2023-10-25T15:10:14.029932Z",
     "iopub.status.idle": "2023-10-25T15:10:14.034599Z",
     "shell.execute_reply": "2023-10-25T15:10:14.033667Z",
     "shell.execute_reply.started": "2023-10-25T15:10:14.030226Z"
    },
    "tags": []
   },
   "outputs": [],
   "source": [
    "path_sgy = 'cube.sgy'\n",
    "path_horizon = 'horizon.char'"
   ]
  },
  {
   "cell_type": "markdown",
   "id": "73d252e7-63e5-4a32-bf1a-ea4e66ad2278",
   "metadata": {},
   "source": [
    "## Basic operations (load headers and traces/lines)"
   ]
  },
  {
   "cell_type": "code",
   "execution_count": 3,
   "id": "448fcc44-2c1c-472b-8499-4b53170bd4a6",
   "metadata": {
    "execution": {
     "iopub.execute_input": "2023-10-25T15:10:14.035644Z",
     "iopub.status.busy": "2023-10-25T15:10:14.035454Z",
     "iopub.status.idle": "2023-10-25T15:10:14.040459Z",
     "shell.execute_reply": "2023-10-25T15:10:14.039540Z",
     "shell.execute_reply.started": "2023-10-25T15:10:14.035626Z"
    },
    "tags": []
   },
   "outputs": [],
   "source": [
    "segfast_file = segfast.open(path_sgy)"
   ]
  },
  {
   "cell_type": "code",
   "execution_count": 4,
   "id": "377e5217-6b5d-4a28-9e69-bf7d66610653",
   "metadata": {
    "execution": {
     "iopub.execute_input": "2023-10-25T15:10:14.041202Z",
     "iopub.status.busy": "2023-10-25T15:10:14.041020Z",
     "iopub.status.idle": "2023-10-25T15:10:14.050315Z",
     "shell.execute_reply": "2023-10-25T15:10:14.049406Z",
     "shell.execute_reply.started": "2023-10-25T15:10:14.041186Z"
    },
    "tags": []
   },
   "outputs": [
    {
     "data": {
      "text/plain": [
       "array([[   0.   ,    0.   ,    0.   , ...,    0.   ,    0.   ,    0.   ],\n",
       "       [   0.   ,    0.   ,    0.   , ...,    0.   ,    0.   ,    0.   ],\n",
       "       [   0.   ,    0.   ,    0.   , ..., 1364.876, 1023.657,  341.219]],\n",
       "      dtype=float32)"
      ]
     },
     "execution_count": 4,
     "metadata": {},
     "output_type": "execute_result"
    }
   ],
   "source": [
    "segfast_file.load_traces([123, 333, 777], buffer=None)"
   ]
  },
  {
   "cell_type": "code",
   "execution_count": 5,
   "id": "aafc31fd-627a-4860-aafa-ef5ce7ab13fe",
   "metadata": {
    "execution": {
     "iopub.execute_input": "2023-10-25T15:10:14.051173Z",
     "iopub.status.busy": "2023-10-25T15:10:14.050988Z",
     "iopub.status.idle": "2023-10-25T15:10:15.226547Z",
     "shell.execute_reply": "2023-10-25T15:10:15.225544Z",
     "shell.execute_reply.started": "2023-10-25T15:10:14.051156Z"
    },
    "tags": []
   },
   "outputs": [
    {
     "data": {
      "text/plain": [
       "array([[0., 0., 0., ..., 0., 0., 0.],\n",
       "       [0., 0., 0., ..., 0., 0., 0.],\n",
       "       [0., 0., 0., ..., 0., 0., 0.]], dtype=float32)"
      ]
     },
     "execution_count": 5,
     "metadata": {},
     "output_type": "execute_result"
    }
   ],
   "source": [
    "segfast_file.load_depth_slices([5, 10, 15], buffer=None)"
   ]
  },
  {
   "cell_type": "code",
   "execution_count": 6,
   "id": "38c9c82f-a98d-417f-b76b-86d3e22a8890",
   "metadata": {
    "execution": {
     "iopub.execute_input": "2023-10-25T15:10:15.227634Z",
     "iopub.status.busy": "2023-10-25T15:10:15.227422Z",
     "iopub.status.idle": "2023-10-25T15:10:15.675571Z",
     "shell.execute_reply": "2023-10-25T15:10:15.674977Z",
     "shell.execute_reply.started": "2023-10-25T15:10:15.227616Z"
    },
    "tags": []
   },
   "outputs": [
    {
     "data": {
      "text/html": [
       "<div>\n",
       "<style scoped>\n",
       "    .dataframe tbody tr th:only-of-type {\n",
       "        vertical-align: middle;\n",
       "    }\n",
       "\n",
       "    .dataframe tbody tr th {\n",
       "        vertical-align: top;\n",
       "    }\n",
       "\n",
       "    .dataframe thead th {\n",
       "        text-align: right;\n",
       "    }\n",
       "</style>\n",
       "<table border=\"1\" class=\"dataframe\">\n",
       "  <thead>\n",
       "    <tr style=\"text-align: right;\">\n",
       "      <th></th>\n",
       "      <th>TRACE_SEQUENCE_FILE</th>\n",
       "      <th>INLINE_3D</th>\n",
       "      <th>CROSSLINE_3D</th>\n",
       "    </tr>\n",
       "  </thead>\n",
       "  <tbody>\n",
       "    <tr>\n",
       "      <th>0</th>\n",
       "      <td>1</td>\n",
       "      <td>24</td>\n",
       "      <td>19</td>\n",
       "    </tr>\n",
       "    <tr>\n",
       "      <th>1</th>\n",
       "      <td>2</td>\n",
       "      <td>24</td>\n",
       "      <td>20</td>\n",
       "    </tr>\n",
       "    <tr>\n",
       "      <th>2</th>\n",
       "      <td>3</td>\n",
       "      <td>24</td>\n",
       "      <td>21</td>\n",
       "    </tr>\n",
       "    <tr>\n",
       "      <th>3</th>\n",
       "      <td>4</td>\n",
       "      <td>24</td>\n",
       "      <td>22</td>\n",
       "    </tr>\n",
       "    <tr>\n",
       "      <th>4</th>\n",
       "      <td>5</td>\n",
       "      <td>24</td>\n",
       "      <td>23</td>\n",
       "    </tr>\n",
       "    <tr>\n",
       "      <th>...</th>\n",
       "      <td>...</td>\n",
       "      <td>...</td>\n",
       "      <td>...</td>\n",
       "    </tr>\n",
       "    <tr>\n",
       "      <th>3611262</th>\n",
       "      <td>3611263</td>\n",
       "      <td>2586</td>\n",
       "      <td>1423</td>\n",
       "    </tr>\n",
       "    <tr>\n",
       "      <th>3611263</th>\n",
       "      <td>3611264</td>\n",
       "      <td>2586</td>\n",
       "      <td>1424</td>\n",
       "    </tr>\n",
       "    <tr>\n",
       "      <th>3611264</th>\n",
       "      <td>3611265</td>\n",
       "      <td>2586</td>\n",
       "      <td>1425</td>\n",
       "    </tr>\n",
       "    <tr>\n",
       "      <th>3611265</th>\n",
       "      <td>3611266</td>\n",
       "      <td>2586</td>\n",
       "      <td>1426</td>\n",
       "    </tr>\n",
       "    <tr>\n",
       "      <th>3611266</th>\n",
       "      <td>3611267</td>\n",
       "      <td>2586</td>\n",
       "      <td>1427</td>\n",
       "    </tr>\n",
       "  </tbody>\n",
       "</table>\n",
       "<p>3611267 rows × 3 columns</p>\n",
       "</div>"
      ],
      "text/plain": [
       "         TRACE_SEQUENCE_FILE  INLINE_3D  CROSSLINE_3D\n",
       "0                          1         24            19\n",
       "1                          2         24            20\n",
       "2                          3         24            21\n",
       "3                          4         24            22\n",
       "4                          5         24            23\n",
       "...                      ...        ...           ...\n",
       "3611262              3611263       2586          1423\n",
       "3611263              3611264       2586          1424\n",
       "3611264              3611265       2586          1425\n",
       "3611265              3611266       2586          1426\n",
       "3611266              3611267       2586          1427\n",
       "\n",
       "[3611267 rows x 3 columns]"
      ]
     },
     "execution_count": 6,
     "metadata": {},
     "output_type": "execute_result"
    }
   ],
   "source": [
    "segfast_file.load_headers(['INLINE_3D', 'CROSSLINE_3D'])"
   ]
  },
  {
   "cell_type": "markdown",
   "id": "4b2ea549-1853-46f0-981a-6bea836f3584",
   "metadata": {},
   "source": [
    "## Comparison with `segyio`"
   ]
  },
  {
   "cell_type": "code",
   "execution_count": 7,
   "id": "f6680f50-1c75-47a0-ab5e-6b630f8a5fa0",
   "metadata": {
    "execution": {
     "iopub.execute_input": "2023-10-25T15:10:15.678227Z",
     "iopub.status.busy": "2023-10-25T15:10:15.678003Z",
     "iopub.status.idle": "2023-10-25T15:10:16.338227Z",
     "shell.execute_reply": "2023-10-25T15:10:16.337439Z",
     "shell.execute_reply.started": "2023-10-25T15:10:15.678206Z"
    },
    "tags": []
   },
   "outputs": [],
   "source": [
    "HEADERS = ['INLINE_3D', 'CROSSLINE_3D']\n",
    "LINE_IDX = 500\n",
    "DEPTH_IDX = 100\n",
    "\n",
    "segyio_file = segyio.open(path_sgy, strict=True, ignore_geometry=False)\n",
    "segfast_file = segfast.open(path_sgy)"
   ]
  },
  {
   "cell_type": "markdown",
   "id": "ec1dabbd-9912-42a7-ace2-13f38e7ee3df",
   "metadata": {
    "execution": {
     "iopub.execute_input": "2023-10-25T14:10:33.248449Z",
     "iopub.status.busy": "2023-10-25T14:10:33.248089Z",
     "iopub.status.idle": "2023-10-25T14:10:33.253781Z",
     "shell.execute_reply": "2023-10-25T14:10:33.252593Z",
     "shell.execute_reply.started": "2023-10-25T14:10:33.248421Z"
    },
    "tags": []
   },
   "source": [
    "### Headers"
   ]
  },
  {
   "cell_type": "code",
   "execution_count": 8,
   "id": "57785f81-2419-441c-a298-8033417b04de",
   "metadata": {
    "execution": {
     "iopub.execute_input": "2023-10-25T15:10:16.339523Z",
     "iopub.status.busy": "2023-10-25T15:10:16.339290Z",
     "iopub.status.idle": "2023-10-25T15:10:53.466426Z",
     "shell.execute_reply": "2023-10-25T15:10:53.465217Z",
     "shell.execute_reply.started": "2023-10-25T15:10:16.339502Z"
    },
    "tags": []
   },
   "outputs": [
    {
     "name": "stdout",
     "output_type": "stream",
     "text": [
      "CPU times: user 29.9 s, sys: 7.48 s, total: 37.4 s\n",
      "Wall time: 37.1 s\n"
     ]
    }
   ],
   "source": [
    "%%time\n",
    "\n",
    "headers_segyio = pd.DataFrame({header : segyio_file.attributes(getattr(segyio.TraceField, header))\n",
    "                               for header in HEADERS})"
   ]
  },
  {
   "cell_type": "code",
   "execution_count": 9,
   "id": "35898236-db71-433f-a64d-124998aee560",
   "metadata": {
    "execution": {
     "iopub.execute_input": "2023-10-25T15:10:53.467889Z",
     "iopub.status.busy": "2023-10-25T15:10:53.467662Z",
     "iopub.status.idle": "2023-10-25T15:10:58.020390Z",
     "shell.execute_reply": "2023-10-25T15:10:58.019195Z",
     "shell.execute_reply.started": "2023-10-25T15:10:53.467869Z"
    },
    "tags": []
   },
   "outputs": [
    {
     "name": "stdout",
     "output_type": "stream",
     "text": [
      "562 ms ± 7.98 ms per loop (mean ± std. dev. of 7 runs, 1 loop each)\n"
     ]
    }
   ],
   "source": [
    "%%timeit\n",
    "\n",
    "headers_segfast = segfast_file.load_headers(HEADERS)"
   ]
  },
  {
   "cell_type": "markdown",
   "id": "a207b723-1c3f-4d87-b78c-06a74b6a6562",
   "metadata": {},
   "source": [
    "### Inline"
   ]
  },
  {
   "cell_type": "code",
   "execution_count": 10,
   "id": "01761dcd-f8df-4cfd-a29b-d2c24d00e672",
   "metadata": {
    "execution": {
     "iopub.execute_input": "2023-10-25T15:10:58.022017Z",
     "iopub.status.busy": "2023-10-25T15:10:58.021737Z",
     "iopub.status.idle": "2023-10-25T15:11:00.333788Z",
     "shell.execute_reply": "2023-10-25T15:11:00.332685Z",
     "shell.execute_reply.started": "2023-10-25T15:10:58.021990Z"
    },
    "tags": []
   },
   "outputs": [
    {
     "name": "stdout",
     "output_type": "stream",
     "text": [
      "2.74 ms ± 160 µs per loop (mean ± std. dev. of 7 runs, 100 loops each)\n"
     ]
    }
   ],
   "source": [
    "%%timeit\n",
    "slide_segyio_i = segyio_file.iline[segyio_file.ilines[LINE_IDX]]"
   ]
  },
  {
   "cell_type": "code",
   "execution_count": 11,
   "id": "5622f70b-b51d-4b92-a9b2-2c99f4691a52",
   "metadata": {
    "execution": {
     "iopub.execute_input": "2023-10-25T15:11:00.335132Z",
     "iopub.status.busy": "2023-10-25T15:11:00.334900Z",
     "iopub.status.idle": "2023-10-25T15:11:01.054899Z",
     "shell.execute_reply": "2023-10-25T15:11:01.053446Z",
     "shell.execute_reply.started": "2023-10-25T15:11:00.335111Z"
    },
    "tags": []
   },
   "outputs": [],
   "source": [
    "headers_segfast = segfast_file.load_headers(HEADERS)\n",
    "n_ilines = len(np.unique(headers_segfast['INLINE_3D']))\n",
    "n_xlines = len(np.unique(headers_segfast['CROSSLINE_3D']))"
   ]
  },
  {
   "cell_type": "code",
   "execution_count": 12,
   "id": "93da8326-187d-41c2-bc21-6401c153ac52",
   "metadata": {
    "execution": {
     "iopub.execute_input": "2023-10-25T15:11:01.056138Z",
     "iopub.status.busy": "2023-10-25T15:11:01.055919Z",
     "iopub.status.idle": "2023-10-25T15:11:13.669689Z",
     "shell.execute_reply": "2023-10-25T15:11:13.668473Z",
     "shell.execute_reply.started": "2023-10-25T15:11:01.056118Z"
    },
    "tags": []
   },
   "outputs": [
    {
     "name": "stdout",
     "output_type": "stream",
     "text": [
      "1.55 ms ± 5.63 µs per loop (mean ± std. dev. of 7 runs, 1,000 loops each)\n"
     ]
    }
   ],
   "source": [
    "%%timeit\n",
    "\n",
    "start = LINE_IDX * n_xlines\n",
    "stop = start + n_xlines\n",
    "indices = range(start, stop)\n",
    "\n",
    "slide_segfast_i = segfast_file.load_traces(indices=indices)"
   ]
  },
  {
   "cell_type": "markdown",
   "id": "358d7868-6b5b-4ae1-89b8-53c6986d0813",
   "metadata": {},
   "source": [
    "Here we proposed that traces of iline are stored sequentially. In the common situation you have to use information from headers. So you can compute auxiliary matrix once and then use it to load lines."
   ]
  },
  {
   "cell_type": "code",
   "execution_count": 13,
   "id": "439d7fb7-4142-48a7-8bc8-94a2db6e253e",
   "metadata": {
    "execution": {
     "iopub.execute_input": "2023-10-25T15:11:13.671206Z",
     "iopub.status.busy": "2023-10-25T15:11:13.670971Z",
     "iopub.status.idle": "2023-10-25T15:11:15.011203Z",
     "shell.execute_reply": "2023-10-25T15:11:15.009650Z",
     "shell.execute_reply.started": "2023-10-25T15:11:13.671185Z"
    },
    "tags": []
   },
   "outputs": [],
   "source": [
    "headers = segfast_file.load_headers(HEADERS)\n",
    "traces_idx = headers.reset_index().pivot(index='INLINE_3D', columns='CROSSLINE_3D', values='index').values"
   ]
  },
  {
   "cell_type": "code",
   "execution_count": 14,
   "id": "567a12fa-ee55-4b14-b14b-857217543215",
   "metadata": {
    "execution": {
     "iopub.execute_input": "2023-10-25T15:11:15.012775Z",
     "iopub.status.busy": "2023-10-25T15:11:15.012552Z",
     "iopub.status.idle": "2023-10-25T15:11:27.029219Z",
     "shell.execute_reply": "2023-10-25T15:11:27.028060Z",
     "shell.execute_reply.started": "2023-10-25T15:11:15.012754Z"
    },
    "tags": []
   },
   "outputs": [
    {
     "name": "stdout",
     "output_type": "stream",
     "text": [
      "1.48 ms ± 4.85 µs per loop (mean ± std. dev. of 7 runs, 1,000 loops each)\n"
     ]
    }
   ],
   "source": [
    "%%timeit\n",
    "\n",
    "slide_segfast_i_from_header = segfast_file.load_traces(indices=traces_idx[LINE_IDX])"
   ]
  },
  {
   "cell_type": "markdown",
   "id": "0d7f2ce9-02d1-46a5-b569-546e57492612",
   "metadata": {},
   "source": [
    "### Crossline"
   ]
  },
  {
   "cell_type": "code",
   "execution_count": 15,
   "id": "8479e8aa-0432-44ed-b1d4-6fa5cce1a61c",
   "metadata": {
    "execution": {
     "iopub.execute_input": "2023-10-25T15:11:27.030695Z",
     "iopub.status.busy": "2023-10-25T15:11:27.030450Z",
     "iopub.status.idle": "2023-10-25T15:11:34.308069Z",
     "shell.execute_reply": "2023-10-25T15:11:34.307004Z",
     "shell.execute_reply.started": "2023-10-25T15:11:27.030673Z"
    },
    "tags": []
   },
   "outputs": [
    {
     "name": "stdout",
     "output_type": "stream",
     "text": [
      "8.94 ms ± 60.4 µs per loop (mean ± std. dev. of 7 runs, 100 loops each)\n"
     ]
    }
   ],
   "source": [
    "%%timeit\n",
    "\n",
    "slide_segyio_x = segyio_file.xline[segyio_file.xlines[LINE_IDX]]"
   ]
  },
  {
   "cell_type": "code",
   "execution_count": 16,
   "id": "3304b7e8-0815-427f-867f-5282734440ea",
   "metadata": {
    "execution": {
     "iopub.execute_input": "2023-10-25T15:11:34.309371Z",
     "iopub.status.busy": "2023-10-25T15:11:34.309145Z",
     "iopub.status.idle": "2023-10-25T15:11:37.422264Z",
     "shell.execute_reply": "2023-10-25T15:11:37.421207Z",
     "shell.execute_reply.started": "2023-10-25T15:11:34.309351Z"
    },
    "tags": []
   },
   "outputs": [
    {
     "name": "stdout",
     "output_type": "stream",
     "text": [
      "3.78 ms ± 49 µs per loop (mean ± std. dev. of 7 runs, 100 loops each)\n"
     ]
    }
   ],
   "source": [
    "%%timeit\n",
    "\n",
    "slide_segfast_x_from_header = segfast_file.load_traces(indices=traces_idx[:, LINE_IDX])"
   ]
  },
  {
   "cell_type": "markdown",
   "id": "6dd94bfa-8539-4787-8f55-a9cddedec7d9",
   "metadata": {},
   "source": [
    "### Depth"
   ]
  },
  {
   "cell_type": "code",
   "execution_count": 17,
   "id": "fe603148-c7ac-4bcc-8f58-01e1ffed2e03",
   "metadata": {
    "execution": {
     "iopub.execute_input": "2023-10-25T15:11:37.423572Z",
     "iopub.status.busy": "2023-10-25T15:11:37.423353Z",
     "iopub.status.idle": "2023-10-25T15:12:08.968835Z",
     "shell.execute_reply": "2023-10-25T15:12:08.967632Z",
     "shell.execute_reply.started": "2023-10-25T15:11:37.423553Z"
    },
    "tags": []
   },
   "outputs": [
    {
     "name": "stdout",
     "output_type": "stream",
     "text": [
      "3.94 s ± 5.03 ms per loop (mean ± std. dev. of 7 runs, 1 loop each)\n"
     ]
    }
   ],
   "source": [
    "%%timeit\n",
    "slide_segyio_d = segyio_file.depth_slice[DEPTH_IDX]"
   ]
  },
  {
   "cell_type": "code",
   "execution_count": 18,
   "id": "f15bdd8d-433b-404a-92e0-12c4ce3cee7f",
   "metadata": {
    "execution": {
     "iopub.execute_input": "2023-10-25T15:12:08.970235Z",
     "iopub.status.busy": "2023-10-25T15:12:08.969997Z",
     "iopub.status.idle": "2023-10-25T15:12:10.480370Z",
     "shell.execute_reply": "2023-10-25T15:12:10.479336Z",
     "shell.execute_reply.started": "2023-10-25T15:12:08.970212Z"
    },
    "tags": []
   },
   "outputs": [
    {
     "name": "stdout",
     "output_type": "stream",
     "text": [
      "73.4 ms ± 703 µs per loop (mean ± std. dev. of 7 runs, 1 loop each)\n"
     ]
    }
   ],
   "source": [
    "%%timeit\n",
    "slide_segfast_d = segfast_file.load_depth_slices([DEPTH_IDX]).reshape(n_ilines, n_xlines)"
   ]
  },
  {
   "cell_type": "markdown",
   "id": "cc2757a8-3324-4a76-a055-8c504479096c",
   "metadata": {},
   "source": [
    "## Example: `Geometry`/`Field` classes"
   ]
  },
  {
   "cell_type": "code",
   "execution_count": 19,
   "id": "cbbee842-8492-4fbe-8cfd-097ea8e6fd1c",
   "metadata": {
    "execution": {
     "iopub.execute_input": "2023-10-25T15:12:10.481561Z",
     "iopub.status.busy": "2023-10-25T15:12:10.481352Z",
     "iopub.status.idle": "2023-10-25T15:12:10.491799Z",
     "shell.execute_reply": "2023-10-25T15:12:10.490719Z",
     "shell.execute_reply.started": "2023-10-25T15:12:10.481543Z"
    },
    "tags": []
   },
   "outputs": [],
   "source": [
    "class Geometry:\n",
    "    INDEX_HEADERS_POSTSTACK = ('INLINE_3D', 'CROSSLINE_3D')\n",
    "\n",
    "    def __init__(self, path, engine='memmap'):\n",
    "        self.path = path\n",
    "        self.file = segfast.open(path, engine=engine)\n",
    "        self._headers = None\n",
    "        \n",
    "        self.compute_stats()\n",
    "\n",
    "    def compute_stats(self):\n",
    "        self.ilines = np.unique(self.headers['INLINE_3D'])\n",
    "        self.xlines = np.unique(self.headers['CROSSLINE_3D'])\n",
    "        self.n_ilines, self.n_xlines = len(self.ilines), len(self.xlines)\n",
    "        self.shape = (self.n_ilines, self.n_xlines, self.file.n_samples)\n",
    "        self.shifts = min(self.ilines), min(self.xlines)\n",
    "        self.delay = self.file.delay\n",
    "        self.traces_idx = self.headers.reset_index().pivot(index='INLINE_3D', columns='CROSSLINE_3D', values='index').values\n",
    "\n",
    "    @property\n",
    "    def headers(self):\n",
    "        if self._headers is None:\n",
    "            self._headers = self.file.load_headers(self.INDEX_HEADERS_POSTSTACK)\n",
    "        return self._headers\n",
    "\n",
    "    def load_slide(self, loc, axis=0):\n",
    "        name = 'INLINE_3D' if axis == 0 else 'CROSSLINE_3D'\n",
    "        return self.file.load_traces(indices=self.headers[headers_segfast[name] == idx]['TRACE_SEQUENCE_FILE'])\n",
    "\n",
    "    def load_depth(self, loc):\n",
    "        return self.file.load_depth_slices([loc]).reshape(self.n_ilines, self.n_xlines)\n",
    "\n",
    "    def load_value(self, index, limits):\n",
    "        return self.file.load_traces([index], limits=limits)[0]"
   ]
  },
  {
   "cell_type": "code",
   "execution_count": 20,
   "id": "f3c5b8d7-5a8f-4d90-b7c8-d639ca490edc",
   "metadata": {
    "execution": {
     "iopub.execute_input": "2023-10-25T15:12:10.493139Z",
     "iopub.status.busy": "2023-10-25T15:12:10.492828Z",
     "iopub.status.idle": "2023-10-25T15:12:10.507408Z",
     "shell.execute_reply": "2023-10-25T15:12:10.506808Z",
     "shell.execute_reply.started": "2023-10-25T15:12:10.493121Z"
    },
    "tags": []
   },
   "outputs": [],
   "source": [
    "from numba import njit, prange\n",
    "\n",
    "def get_points(data, points, buffer, traces_idx, shift):\n",
    "    for i in prange(len(points)):\n",
    "        item = points[i]\n",
    "        buffer[item[0], item[1]] = data[\n",
    "            item[2] - shift[0]:item[2] - shift[1],\n",
    "            traces_idx[item[0], item[1]]\n",
    "        ]\n",
    "    return buffer\n",
    "\n",
    "class Horizon:\n",
    "    def __init__(self, path, geometry):\n",
    "        self.path = path\n",
    "        self.geometry = geometry\n",
    "\n",
    "        self.load()\n",
    "\n",
    "    def load(self):\n",
    "        self.absolute_points = pd.read_csv(self.path, header=None, sep='\\s+', names=['INLINE_3D', 'CROSSLINE_3D', 'DEPTH']).values.astype('int32')\n",
    "        self.points = self.absolute_points - np.array([*self.geometry.shifts, self.geometry.delay])\n",
    "        self.points[:, 2] = self.points[:, 2] / (self.geometry.file.sample_interval // 1000)\n",
    "        self.matrix = np.full(self.geometry.shape[:2], fill_value=np.nan)\n",
    "        self.matrix[self.points[:, 0], self.points[:, 1]] = self.points[:, 2]\n",
    "        self.d_min, self.d_max = int(np.nanmin(self.matrix)), int(np.nanmax(self.matrix))\n",
    "        \n",
    "    def show(self):\n",
    "        plot(self.matrix, colorbar=True, cmap='viridis')\n",
    "\n",
    "    def get_cube_values(self, window=1, bar=True, numba=False):\n",
    "        data = self.geometry.file.load_depth_slices(range(self.d_min - window // 2, self.d_max + (window - window // 2)))\n",
    "        buffer = np.full((*self.geometry.shape[:2], window), fill_value=np.nan)\n",
    "\n",
    "        if numba:\n",
    "            parallel = numba == 'parallel'\n",
    "            get_points_ = njit(parallel=parallel)(get_points)\n",
    "        else:\n",
    "            get_points_ = get_points\n",
    "\n",
    "        return get_points_(data, self.points, buffer, self.geometry.traces_idx, (self.d_min, self.d_min - window))\n",
    "\n",
    "\n",
    "    def get_cube_values_fast(self, window=1, bar=True, numba=False, max_workers=40):\n",
    "        min_depth, max_depth = self.d_min - window // 2, self.d_max + (window - window // 2) + 1\n",
    "        data = np.empty((max_depth - min_depth + window, self.geometry.shape[0] * self.geometry.shape[1]))#, fill_value=np.nan)\n",
    "\n",
    "        with ThreadPoolExecutor(max_workers=max_workers) as executor:\n",
    "\n",
    "            def func(start, stop):\n",
    "                self.geometry.file.load_depth_slices(range(start, stop), buffer=data[start - min_depth:stop - min_depth])\n",
    "\n",
    "            step = (max_depth - min_depth) // max_workers\n",
    "            for start in range(min_depth, max_depth, step):\n",
    "                stop = min(start + step, max_depth)\n",
    "                future = executor.submit(func, start=start, stop=stop)\n",
    "\n",
    "        buffer = np.full((*self.geometry.shape[:2], window), fill_value=np.nan)\n",
    "\n",
    "        if numba:\n",
    "            parallel = numba == 'parallel'\n",
    "            get_points_ = njit(parallel=parallel)(get_points)\n",
    "        else:\n",
    "            get_points_ = get_points\n",
    "\n",
    "        return get_points_(data, self.points, buffer, self.geometry.traces_idx, (self.d_min, self.d_min - window))"
   ]
  },
  {
   "cell_type": "markdown",
   "id": "1a017289-ff5c-4f0e-8e87-7b57398a2a48",
   "metadata": {},
   "source": [
    "Let's create instances of geometry and horizon"
   ]
  },
  {
   "cell_type": "code",
   "execution_count": 21,
   "id": "3cecb670-0eea-40cd-9ef9-80c71850f1d0",
   "metadata": {
    "execution": {
     "iopub.execute_input": "2023-10-25T15:12:10.508349Z",
     "iopub.status.busy": "2023-10-25T15:12:10.508090Z",
     "iopub.status.idle": "2023-10-25T15:12:12.387513Z",
     "shell.execute_reply": "2023-10-25T15:12:12.386051Z",
     "shell.execute_reply.started": "2023-10-25T15:12:10.508331Z"
    },
    "tags": []
   },
   "outputs": [],
   "source": [
    "geometry = Geometry(path_sgy, engine='memmap')\n",
    "horizon = Horizon(path_horizon, geometry=geometry)"
   ]
  },
  {
   "cell_type": "markdown",
   "id": "c80e709f-e738-4712-acb6-5883c38e8d3a",
   "metadata": {},
   "source": [
    "Now we can load amplitudes along horizon in some window (10 ticks above and 10 ticks below)"
   ]
  },
  {
   "cell_type": "code",
   "execution_count": 22,
   "id": "262df3f1-d0a7-4568-99ef-a2226923dc23",
   "metadata": {
    "execution": {
     "iopub.execute_input": "2023-10-25T15:12:12.391311Z",
     "iopub.status.busy": "2023-10-25T15:12:12.391047Z",
     "iopub.status.idle": "2023-10-25T15:12:31.099666Z",
     "shell.execute_reply": "2023-10-25T15:12:31.098606Z",
     "shell.execute_reply.started": "2023-10-25T15:12:12.391290Z"
    },
    "tags": []
   },
   "outputs": [
    {
     "name": "stdout",
     "output_type": "stream",
     "text": [
      "CPU times: user 16.6 s, sys: 2.09 s, total: 18.7 s\n",
      "Wall time: 18.7 s\n"
     ]
    }
   ],
   "source": [
    "%%time\n",
    "\n",
    "window = 20\n",
    "values = horizon.get_cube_values(window)"
   ]
  },
  {
   "cell_type": "markdown",
   "id": "acf57f0b-61cc-4cfa-94b6-62077074872f",
   "metadata": {},
   "source": [
    "Let's check how long is loading of data"
   ]
  },
  {
   "cell_type": "code",
   "execution_count": 23,
   "id": "42fc5337-bb31-4e27-82b3-80e56e0f5184",
   "metadata": {
    "execution": {
     "iopub.execute_input": "2023-10-25T15:12:31.100782Z",
     "iopub.status.busy": "2023-10-25T15:12:31.100565Z",
     "iopub.status.idle": "2023-10-25T15:12:45.158358Z",
     "shell.execute_reply": "2023-10-25T15:12:45.157388Z",
     "shell.execute_reply.started": "2023-10-25T15:12:31.100763Z"
    },
    "tags": []
   },
   "outputs": [
    {
     "name": "stdout",
     "output_type": "stream",
     "text": [
      "range(1050, 1224)\n",
      "CPU times: user 12.9 s, sys: 1.18 s, total: 14.1 s\n",
      "Wall time: 14 s\n"
     ]
    },
    {
     "data": {
      "text/plain": [
       "array([[0., 0., 0., ..., 0., 0., 0.],\n",
       "       [0., 0., 0., ..., 0., 0., 0.],\n",
       "       [0., 0., 0., ..., 0., 0., 0.],\n",
       "       ...,\n",
       "       [0., 0., 0., ..., 0., 0., 0.],\n",
       "       [0., 0., 0., ..., 0., 0., 0.],\n",
       "       [0., 0., 0., ..., 0., 0., 0.]], dtype=float32)"
      ]
     },
     "execution_count": 23,
     "metadata": {},
     "output_type": "execute_result"
    }
   ],
   "source": [
    "%%time\n",
    "\n",
    "print(range(horizon.d_min - window // 2, horizon.d_max + (window - window // 2)))\n",
    "geometry.file.load_depth_slices(range(horizon.d_min - window // 2, horizon.d_max + (window - window // 2)))"
   ]
  },
  {
   "cell_type": "markdown",
   "id": "68ff2485-ee44-4f0c-98e5-561c16397607",
   "metadata": {
    "execution": {
     "iopub.execute_input": "2023-10-25T09:31:41.349362Z",
     "iopub.status.busy": "2023-10-25T09:31:41.349000Z",
     "iopub.status.idle": "2023-10-25T09:31:41.354537Z",
     "shell.execute_reply": "2023-10-25T09:31:41.353357Z",
     "shell.execute_reply.started": "2023-10-25T09:31:41.349334Z"
    },
    "tags": []
   },
   "source": [
    "## Speed up loading"
   ]
  },
  {
   "cell_type": "code",
   "execution_count": 24,
   "id": "4a10b3d5-f53b-4281-8434-cbe1a360ba64",
   "metadata": {
    "execution": {
     "iopub.execute_input": "2023-10-25T15:12:45.159581Z",
     "iopub.status.busy": "2023-10-25T15:12:45.159361Z",
     "iopub.status.idle": "2023-10-25T15:12:45.165105Z",
     "shell.execute_reply": "2023-10-25T15:12:45.164020Z",
     "shell.execute_reply.started": "2023-10-25T15:12:45.159561Z"
    },
    "tags": []
   },
   "outputs": [],
   "source": [
    "from concurrent.futures import ThreadPoolExecutor\n",
    "from functools import partial\n",
    "\n",
    "min_depth, max_depth = horizon.d_min - window // 2, horizon.d_max + (window - window // 2) + 1\n",
    "buffer = np.empty((max_depth - min_depth + window, geometry.shape[0] * geometry.shape[1]))"
   ]
  },
  {
   "cell_type": "markdown",
   "id": "0a9d91e7-acd4-4cb9-a8d7-18e6e969f0fb",
   "metadata": {},
   "source": [
    "Loading can be faster with parallel threads"
   ]
  },
  {
   "cell_type": "code",
   "execution_count": 25,
   "id": "fd4f0cf1-1b69-4965-81da-3ab4bde94eb9",
   "metadata": {
    "execution": {
     "iopub.execute_input": "2023-10-25T15:12:45.166011Z",
     "iopub.status.busy": "2023-10-25T15:12:45.165824Z",
     "iopub.status.idle": "2023-10-25T15:12:47.041539Z",
     "shell.execute_reply": "2023-10-25T15:12:47.039810Z",
     "shell.execute_reply.started": "2023-10-25T15:12:45.165994Z"
    },
    "tags": []
   },
   "outputs": [
    {
     "name": "stdout",
     "output_type": "stream",
     "text": [
      "CPU times: user 22.3 s, sys: 10.2 s, total: 32.4 s\n",
      "Wall time: 1.87 s\n"
     ]
    }
   ],
   "source": [
    "%%time\n",
    "\n",
    "max_workers = 40\n",
    "with ThreadPoolExecutor(max_workers=max_workers) as executor:\n",
    "\n",
    "    def func(start, stop):\n",
    "        buffer[start - min_depth:stop - min_depth] = geometry.file.load_depth_slices(range(start, stop))\n",
    "\n",
    "    step = (max_depth - min_depth) // max_workers\n",
    "    for start in range(min_depth, max_depth, step):\n",
    "        stop = min(start + step, max_depth)\n",
    "        future = executor.submit(func, start=start, stop=stop)"
   ]
  },
  {
   "cell_type": "markdown",
   "id": "a97e9af7-bdc4-4aab-b3ee-345a174f4b01",
   "metadata": {},
   "source": [
    "Here we can get values along horizon with such parallelization"
   ]
  },
  {
   "cell_type": "code",
   "execution_count": 26,
   "id": "3aadf9b4-1e97-4174-9b60-4751cb98a61f",
   "metadata": {
    "execution": {
     "iopub.execute_input": "2023-10-25T15:12:47.044151Z",
     "iopub.status.busy": "2023-10-25T15:12:47.043572Z",
     "iopub.status.idle": "2023-10-25T15:12:48.859458Z",
     "shell.execute_reply": "2023-10-25T15:12:48.858400Z",
     "shell.execute_reply.started": "2023-10-25T15:12:47.044097Z"
    },
    "tags": []
   },
   "outputs": [
    {
     "name": "stdout",
     "output_type": "stream",
     "text": [
      "CPU times: user 22.7 s, sys: 6.46 s, total: 29.2 s\n",
      "Wall time: 1.81 s\n"
     ]
    }
   ],
   "source": [
    "%%time\n",
    "\n",
    "values = horizon.get_cube_values_fast(window, numba=True, max_workers=max_workers)"
   ]
  }
 ],
 "metadata": {
  "kernelspec": {
   "display_name": "Python 3 (ipykernel)",
   "language": "python",
   "name": "python3"
  },
  "language_info": {
   "codemirror_mode": {
    "name": "ipython",
    "version": 3
   },
   "file_extension": ".py",
   "mimetype": "text/x-python",
   "name": "python",
   "nbconvert_exporter": "python",
   "pygments_lexer": "ipython3",
   "version": "3.8.16"
  }
 },
 "nbformat": 4,
 "nbformat_minor": 5
}
