{
 "cells": [
  {
   "cell_type": "code",
   "execution_count": 1,
   "id": "52a4da64-e61b-48f5-bfad-90f27a29765c",
   "metadata": {
    "execution": {
     "iopub.execute_input": "2023-10-25T14:28:03.451497Z",
     "iopub.status.busy": "2023-10-25T14:28:03.450490Z",
     "iopub.status.idle": "2023-10-25T14:28:04.846810Z",
     "shell.execute_reply": "2023-10-25T14:28:04.845732Z",
     "shell.execute_reply.started": "2023-10-25T14:28:03.451442Z"
    },
    "tags": []
   },
   "outputs": [],
   "source": [
    "import os\n",
    "import numpy as np\n",
    "import segyio\n",
    "\n",
    "import segfast"
   ]
  },
  {
   "cell_type": "code",
   "execution_count": 2,
   "id": "8ddadb59-04d8-426e-ba66-45fbd7e5e51e",
   "metadata": {
    "execution": {
     "iopub.execute_input": "2023-10-25T14:28:04.849238Z",
     "iopub.status.busy": "2023-10-25T14:28:04.848511Z",
     "iopub.status.idle": "2023-10-25T14:28:04.854259Z",
     "shell.execute_reply": "2023-10-25T14:28:04.853151Z",
     "shell.execute_reply.started": "2023-10-25T14:28:04.849216Z"
    },
    "tags": []
   },
   "outputs": [],
   "source": [
    "INDEX_HEADERS_POSTSTACK = ('INLINE_3D', 'CROSSLINE_3D')\n",
    "path = '/cubes/XXX_F3_NETHERLANDS/XXX_F3_NETHERLANDS.sgy'\n",
    "\n",
    "file = segfast.open(path)"
   ]
  },
  {
   "cell_type": "code",
   "execution_count": 3,
   "id": "c84df3db-7817-46b2-b728-b60690a50683",
   "metadata": {
    "execution": {
     "iopub.execute_input": "2023-10-25T14:28:04.855176Z",
     "iopub.status.busy": "2023-10-25T14:28:04.854984Z",
     "iopub.status.idle": "2023-10-25T14:28:04.860682Z",
     "shell.execute_reply": "2023-10-25T14:28:04.859716Z",
     "shell.execute_reply.started": "2023-10-25T14:28:04.855159Z"
    },
    "tags": []
   },
   "outputs": [
    {
     "name": "stdout",
     "output_type": "stream",
     "text": [
      "Input SEG-Y file size: 1.21 GB\n"
     ]
    }
   ],
   "source": [
    "size = os.path.getsize(path) / (1024 ** 3)\n",
    "print(f'Input SEG-Y file size: {size:3.2f} GB')"
   ]
  },
  {
   "cell_type": "code",
   "execution_count": 4,
   "id": "21ca8e66-1460-4ca0-80b5-07ccf42164d6",
   "metadata": {
    "execution": {
     "iopub.execute_input": "2023-10-25T14:28:04.861586Z",
     "iopub.status.busy": "2023-10-25T14:28:04.861401Z",
     "iopub.status.idle": "2023-10-25T14:28:04.947618Z",
     "shell.execute_reply": "2023-10-25T14:28:04.946453Z",
     "shell.execute_reply.started": "2023-10-25T14:28:04.861570Z"
    },
    "tags": []
   },
   "outputs": [],
   "source": [
    "headers = file.load_headers(INDEX_HEADERS_POSTSTACK)"
   ]
  },
  {
   "cell_type": "code",
   "execution_count": 5,
   "id": "51f23ce8-6605-44fd-bb9f-63fe6394b171",
   "metadata": {
    "execution": {
     "iopub.execute_input": "2023-10-25T14:28:04.949014Z",
     "iopub.status.busy": "2023-10-25T14:28:04.948792Z",
     "iopub.status.idle": "2023-10-25T14:28:04.954960Z",
     "shell.execute_reply": "2023-10-25T14:28:04.953991Z",
     "shell.execute_reply.started": "2023-10-25T14:28:04.948994Z"
    },
    "tags": []
   },
   "outputs": [
    {
     "name": "stdout",
     "output_type": "stream",
     "text": [
      "n_traces 619101\n",
      "sample_interval 4000\n",
      "delay 0\n"
     ]
    }
   ],
   "source": [
    "for item in ['n_traces', 'sample_interval', 'delay']:\n",
    "    print(item, getattr(file, item))"
   ]
  },
  {
   "cell_type": "code",
   "execution_count": 6,
   "id": "b7aec876-7270-414d-801b-b5ed80fd174d",
   "metadata": {
    "execution": {
     "iopub.execute_input": "2023-10-25T14:28:04.955877Z",
     "iopub.status.busy": "2023-10-25T14:28:04.955687Z",
     "iopub.status.idle": "2023-10-25T14:28:05.017110Z",
     "shell.execute_reply": "2023-10-25T14:28:05.016051Z",
     "shell.execute_reply.started": "2023-10-25T14:28:04.955861Z"
    },
    "tags": []
   },
   "outputs": [],
   "source": [
    "ilines, xlines = [np.unique(headers[index_header]) for index_header in INDEX_HEADERS_POSTSTACK]\n",
    "ilines, xlines = [np.sort(item) for item in (ilines, xlines)]\n",
    "index_values = headers[list(INDEX_HEADERS_POSTSTACK)].values\n",
    "index_ordinals = index_values - index_values.min(axis=0).reshape(-1, 2)\n",
    "idx_0, idx_1 = index_ordinals[:, 0], index_ordinals[:, 1]\n",
    "lengths = (len(ilines), len(xlines))\n",
    "\n",
    "mesh = []\n",
    "\n",
    "for header in INDEX_HEADERS_POSTSTACK:\n",
    "    values = headers[header]\n",
    "    matrix = np.full(lengths, -1, dtype=values.dtype)\n",
    "    matrix[idx_0, idx_1] = values\n",
    "    mesh.append(matrix)"
   ]
  },
  {
   "cell_type": "code",
   "execution_count": 7,
   "id": "f668fbf2-8e1d-4d1c-9c70-2e233f6e904c",
   "metadata": {
    "execution": {
     "iopub.execute_input": "2023-10-25T14:28:05.019460Z",
     "iopub.status.busy": "2023-10-25T14:28:05.019229Z",
     "iopub.status.idle": "2023-10-25T14:28:05.024158Z",
     "shell.execute_reply": "2023-10-25T14:28:05.023199Z",
     "shell.execute_reply.started": "2023-10-25T14:28:05.019442Z"
    },
    "tags": []
   },
   "outputs": [],
   "source": [
    "geometry = {\n",
    "    'il': ilines,\n",
    "    'xl': xlines,\n",
    "    'nil': len(ilines),\n",
    "    'nxl': len(xlines),\n",
    "    'ntrace': file.n_traces,\n",
    "    'mesh': mesh\n",
    "}"
   ]
  },
  {
   "cell_type": "code",
   "execution_count": 8,
   "id": "421063f9-bf6f-4d52-a16b-7800993aad44",
   "metadata": {
    "execution": {
     "iopub.execute_input": "2023-10-25T14:28:05.025261Z",
     "iopub.status.busy": "2023-10-25T14:28:05.025069Z",
     "iopub.status.idle": "2023-10-25T14:28:05.029975Z",
     "shell.execute_reply": "2023-10-25T14:28:05.029025Z",
     "shell.execute_reply.started": "2023-10-25T14:28:05.025244Z"
    },
    "tags": []
   },
   "outputs": [],
   "source": [
    "file = segfast.open(path)"
   ]
  },
  {
   "cell_type": "code",
   "execution_count": 9,
   "id": "b45a0c8a-4f29-4941-966e-289771fb0f70",
   "metadata": {
    "execution": {
     "iopub.execute_input": "2023-10-25T14:28:05.031136Z",
     "iopub.status.busy": "2023-10-25T14:28:05.030848Z",
     "iopub.status.idle": "2023-10-25T14:28:05.130280Z",
     "shell.execute_reply": "2023-10-25T14:28:05.129120Z",
     "shell.execute_reply.started": "2023-10-25T14:28:05.031118Z"
    },
    "tags": []
   },
   "outputs": [
    {
     "name": "stdout",
     "output_type": "stream",
     "text": [
      "CPU times: user 17.7 ms, sys: 46.7 ms, total: 64.4 ms\n",
      "Wall time: 93.2 ms\n"
     ]
    }
   ],
   "source": [
    "%%time\n",
    "\n",
    "headers = file.load_headers(INDEX_HEADERS_POSTSTACK)"
   ]
  },
  {
   "cell_type": "code",
   "execution_count": 10,
   "id": "7bd6dbfd-7a0d-4b33-b8e3-c6bb91369437",
   "metadata": {
    "execution": {
     "iopub.execute_input": "2023-10-25T14:28:05.131596Z",
     "iopub.status.busy": "2023-10-25T14:28:05.131374Z",
     "iopub.status.idle": "2023-10-25T14:28:06.213802Z",
     "shell.execute_reply": "2023-10-25T14:28:06.213127Z",
     "shell.execute_reply.started": "2023-10-25T14:28:05.131576Z"
    },
    "tags": []
   },
   "outputs": [
    {
     "name": "stdout",
     "output_type": "stream",
     "text": [
      "CPU times: user 1.05 s, sys: 137 ms, total: 1.19 s\n",
      "Wall time: 1.08 s\n"
     ]
    }
   ],
   "source": [
    "%%time\n",
    "\n",
    "slide = file.load_depth_slices([300])"
   ]
  }
 ],
 "metadata": {
  "kernelspec": {
   "display_name": "Python 3 (ipykernel)",
   "language": "python",
   "name": "python3"
  },
  "language_info": {
   "codemirror_mode": {
    "name": "ipython",
    "version": 3
   },
   "file_extension": ".py",
   "mimetype": "text/x-python",
   "name": "python",
   "nbconvert_exporter": "python",
   "pygments_lexer": "ipython3",
   "version": "3.8.16"
  }
 },
 "nbformat": 4,
 "nbformat_minor": 5
}
